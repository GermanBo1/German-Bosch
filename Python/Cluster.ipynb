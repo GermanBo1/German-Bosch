{
 "cells": [
  {
   "cell_type": "markdown",
   "metadata": {},
   "source": [
    "# Seleccion de modelo de cluster\n",
    "\n",
    "Se llevará a cabo una agrupación de los datos de fenotipo de peces utilizando técnicas no supervisadas de machine learning. Este ejercicio teórico se centra en el uso de clustering no supervisado y no tiene como objetivo separar los datos según especie. Para este propósito, se utilizarían otros modelos supervisados, como por ejemplo un RandomForest."
   ]
  },
  {
   "cell_type": "code",
   "execution_count": 75,
   "metadata": {},
   "outputs": [],
   "source": [
    "import pandas as pd\n",
    "\n",
    "# https://www.kaggle.com/datasets/aungpyaeap/fish-market\n",
    "df = pd.read_csv(r'C:\\Users\\GermanBo\\Desktop\\Kschool\\machine learning\\Notebooks\\Fish.csv')"
   ]
  },
  {
   "cell_type": "code",
   "execution_count": 76,
   "metadata": {},
   "outputs": [
    {
     "data": {
      "text/html": [
       "<div>\n",
       "<style scoped>\n",
       "    .dataframe tbody tr th:only-of-type {\n",
       "        vertical-align: middle;\n",
       "    }\n",
       "\n",
       "    .dataframe tbody tr th {\n",
       "        vertical-align: top;\n",
       "    }\n",
       "\n",
       "    .dataframe thead th {\n",
       "        text-align: right;\n",
       "    }\n",
       "</style>\n",
       "<table border=\"1\" class=\"dataframe\">\n",
       "  <thead>\n",
       "    <tr style=\"text-align: right;\">\n",
       "      <th></th>\n",
       "      <th>Species</th>\n",
       "      <th>Weight</th>\n",
       "      <th>Length1</th>\n",
       "      <th>Length2</th>\n",
       "      <th>Length3</th>\n",
       "      <th>Height</th>\n",
       "      <th>Width</th>\n",
       "    </tr>\n",
       "  </thead>\n",
       "  <tbody>\n",
       "    <tr>\n",
       "      <th>0</th>\n",
       "      <td>Bream</td>\n",
       "      <td>242.0</td>\n",
       "      <td>23.2</td>\n",
       "      <td>25.4</td>\n",
       "      <td>30.0</td>\n",
       "      <td>11.5200</td>\n",
       "      <td>4.0200</td>\n",
       "    </tr>\n",
       "    <tr>\n",
       "      <th>1</th>\n",
       "      <td>Bream</td>\n",
       "      <td>290.0</td>\n",
       "      <td>24.0</td>\n",
       "      <td>26.3</td>\n",
       "      <td>31.2</td>\n",
       "      <td>12.4800</td>\n",
       "      <td>4.3056</td>\n",
       "    </tr>\n",
       "    <tr>\n",
       "      <th>2</th>\n",
       "      <td>Bream</td>\n",
       "      <td>340.0</td>\n",
       "      <td>23.9</td>\n",
       "      <td>26.5</td>\n",
       "      <td>31.1</td>\n",
       "      <td>12.3778</td>\n",
       "      <td>4.6961</td>\n",
       "    </tr>\n",
       "    <tr>\n",
       "      <th>3</th>\n",
       "      <td>Bream</td>\n",
       "      <td>363.0</td>\n",
       "      <td>26.3</td>\n",
       "      <td>29.0</td>\n",
       "      <td>33.5</td>\n",
       "      <td>12.7300</td>\n",
       "      <td>4.4555</td>\n",
       "    </tr>\n",
       "    <tr>\n",
       "      <th>4</th>\n",
       "      <td>Bream</td>\n",
       "      <td>430.0</td>\n",
       "      <td>26.5</td>\n",
       "      <td>29.0</td>\n",
       "      <td>34.0</td>\n",
       "      <td>12.4440</td>\n",
       "      <td>5.1340</td>\n",
       "    </tr>\n",
       "  </tbody>\n",
       "</table>\n",
       "</div>"
      ],
      "text/plain": [
       "  Species  Weight  Length1  Length2  Length3   Height   Width\n",
       "0   Bream   242.0     23.2     25.4     30.0  11.5200  4.0200\n",
       "1   Bream   290.0     24.0     26.3     31.2  12.4800  4.3056\n",
       "2   Bream   340.0     23.9     26.5     31.1  12.3778  4.6961\n",
       "3   Bream   363.0     26.3     29.0     33.5  12.7300  4.4555\n",
       "4   Bream   430.0     26.5     29.0     34.0  12.4440  5.1340"
      ]
     },
     "execution_count": 76,
     "metadata": {},
     "output_type": "execute_result"
    }
   ],
   "source": [
    "df.head()"
   ]
  },
  {
   "cell_type": "markdown",
   "metadata": {},
   "source": [
    "## Clustering jerarquico"
   ]
  },
  {
   "cell_type": "code",
   "execution_count": 77,
   "metadata": {},
   "outputs": [],
   "source": [
    "# Tratamiento de datos\n",
    "import numpy as np\n",
    "import pandas as pd\n",
    "from sklearn.datasets import make_blobs\n",
    "\n",
    "# Gráficos\n",
    "import matplotlib.pyplot as plt\n",
    "from matplotlib import style\n",
    "\n",
    "# Preprocesado y modelado\n",
    "from sklearn.cluster import AgglomerativeClustering\n",
    "from scipy.cluster.hierarchy import dendrogram\n",
    "from sklearn.preprocessing import scale\n",
    "from sklearn.metrics import silhouette_score\n"
   ]
  },
  {
   "cell_type": "code",
   "execution_count": 78,
   "metadata": {},
   "outputs": [],
   "source": [
    "\n",
    "\n",
    "def plot_dendrogram(model, **kwargs):\n",
    "    '''\n",
    "    Función para representar un dendograma con AgglomerativeClustering\n",
    "    '''\n",
    "    \n",
    "    counts = np.zeros(model.children_.shape[0])\n",
    "    n_samples = len(model.labels_)\n",
    "    for i, merge in enumerate(model.children_):\n",
    "        current_count = 0\n",
    "        for child_idx in merge:\n",
    "            if child_idx < n_samples:\n",
    "                current_count += 1  # leaf node\n",
    "            else:\n",
    "                current_count += counts[child_idx - n_samples]\n",
    "        counts[i] = current_count\n",
    "\n",
    "    linkage_matrix = np.column_stack([model.children_, model.distances_, counts]).astype(float)\n",
    "\n",
    "    # Plot\n",
    "    dendrogram(linkage_matrix, **kwargs)"
   ]
  },
  {
   "cell_type": "code",
   "execution_count": 79,
   "metadata": {},
   "outputs": [],
   "source": [
    "# Escalado de datos\n",
    "X_scaled = scale(df.iloc[:, 1:])\n"
   ]
  },
  {
   "cell_type": "code",
   "execution_count": 97,
   "metadata": {},
   "outputs": [
    {
     "data": {
      "image/png": "[encoded data removed]",
      "text/plain": [
       "<Figure size 800x800 with 3 Axes>"
      ]
     },
     "metadata": {},
     "output_type": "display_data"
    }
   ],
   "source": [
    "# Modelos\n",
    "modelo_hclust_complete = AgglomerativeClustering(\n",
    "                            metric = 'euclidean',\n",
    "                            linkage  = 'complete',\n",
    "                            distance_threshold = 0,\n",
    "                            n_clusters         = None\n",
    "                        )\n",
    "modelo_hclust_complete.fit(X=X_scaled)\n",
    "\n",
    "\n",
    "modelo_hclust_average = AgglomerativeClustering(\n",
    "                            metric = 'euclidean',\n",
    "                            linkage  = 'average',\n",
    "                            distance_threshold = 0,\n",
    "                            n_clusters         = None\n",
    "                        )\n",
    "modelo_hclust_average.fit(X=X_scaled)\n",
    "\n",
    "modelo_hclust_ward = AgglomerativeClustering(\n",
    "                            metric = 'euclidean',\n",
    "                            linkage  = 'ward',\n",
    "                            distance_threshold = 0,\n",
    "                            n_clusters         = None\n",
    "                     )\n",
    "modelo_hclust_ward.fit(X=X_scaled)\n",
    "\n",
    "\n",
    "# Dendrogramas\n",
    "fig, axs = plt.subplots(3, 1, figsize=(8, 8))\n",
    "plot_dendrogram(modelo_hclust_average, color_threshold=0, ax=axs[0])\n",
    "axs[0].set_title(\"Distancia euclídea, Linkage average\")\n",
    "plot_dendrogram(modelo_hclust_complete, color_threshold=0, ax=axs[1])\n",
    "axs[1].set_title(\"Distancia euclídea, Linkage complete\")\n",
    "plot_dendrogram(modelo_hclust_ward, color_threshold=0, ax=axs[2])\n",
    "axs[2].set_title(\"Distancia euclídea, Linkage ward\")\n",
    "plt.tight_layout();"
   ]
  },
  {
   "cell_type": "markdown",
   "metadata": {},
   "source": [
    "Una vez ya vemos en su conjunto los dendogramas, vamos a hacer grupos de 7 (el numero de especies que sabemos que tenemos) y veremos que score da con el coeficiente de siluetas "
   ]
  },
  {
   "cell_type": "markdown",
   "metadata": {},
   "source": [
    "### Coeficiente de siluetas"
   ]
  },
  {
   "cell_type": "code",
   "execution_count": 96,
   "metadata": {},
   "outputs": [
    {
     "name": "stdout",
     "output_type": "stream",
     "text": [
      "Coeficiente de silueta 'complete': 0.45795529675324453\n",
      "Coeficiente de silueta 'average': 0.4317525999747764\n",
      "Coeficiente de silueta 'ward': 0.4298555155461596\n"
     ]
    }
   ],
   "source": [
    "# Modelo complete\n",
    "\n",
    "modelo_hclust_complete = AgglomerativeClustering(\n",
    "                            metric = 'euclidean',\n",
    "                            linkage  = 'complete',\n",
    "                            distance_threshold = None,\n",
    "                            n_clusters         = 7\n",
    "                        )\n",
    "modelo_hclust_complete.fit(X=X_scaled)\n",
    "\n",
    "coeficiente_silueta = silhouette_score(X_scaled, modelo_hclust_complete.labels_)\n",
    "print(\"Coeficiente de silueta 'complete':\", coeficiente_silueta)\n",
    "\n",
    "\n",
    "# Modelo average\n",
    "\n",
    "modelo_hclust_average = AgglomerativeClustering(\n",
    "                            metric = 'euclidean',\n",
    "                            linkage  = 'average',\n",
    "                            distance_threshold = None,\n",
    "                            n_clusters         = 7\n",
    "                        )\n",
    "modelo_hclust_average.fit(X=X_scaled)\n",
    "\n",
    "coeficiente_silueta = silhouette_score(X_scaled, modelo_hclust_average.labels_)\n",
    "print(\"Coeficiente de silueta 'average':\", coeficiente_silueta)\n",
    "\n",
    "\n",
    "# Modelo ward\n",
    "\n",
    "modelo_hclust_ward = AgglomerativeClustering(\n",
    "                            metric = 'euclidean',\n",
    "                            linkage  = 'ward',\n",
    "                            distance_threshold = None,\n",
    "                            n_clusters         = 7\n",
    "                     )\n",
    "modelo_hclust_ward.fit(X=X_scaled)\n",
    "\n",
    "coeficiente_silueta = silhouette_score(X_scaled, modelo_hclust_ward.labels_)\n",
    "print(\"Coeficiente de silueta 'ward':\", coeficiente_silueta)"
   ]
  },
  {
   "cell_type": "markdown",
   "metadata": {},
   "source": [
    "Los resultados muestran que son los metodos \"complete\" y \"average\" los que obtienen un mejor score. Por ello vamos a obtener los grupos y compararlos segun especies de peces, de uno de los modelos con mejor score"
   ]
  },
  {
   "cell_type": "markdown",
   "metadata": {},
   "source": [
    "### Obtención de grupos"
   ]
  },
  {
   "cell_type": "code",
   "execution_count": 82,
   "metadata": {},
   "outputs": [],
   "source": [
    "# Obtener las etiquetas de los grupos\n",
    "etiquetas_grupos = modelo_hclust_complete.labels_\n",
    "\n",
    "df['grupo'] = etiquetas_grupos"
   ]
  },
  {
   "cell_type": "code",
   "execution_count": 83,
   "metadata": {},
   "outputs": [
    {
     "data": {
      "text/html": [
       "<div>\n",
       "<style scoped>\n",
       "    .dataframe tbody tr th:only-of-type {\n",
       "        vertical-align: middle;\n",
       "    }\n",
       "\n",
       "    .dataframe tbody tr th {\n",
       "        vertical-align: top;\n",
       "    }\n",
       "\n",
       "    .dataframe thead th {\n",
       "        text-align: right;\n",
       "    }\n",
       "</style>\n",
       "<table border=\"1\" class=\"dataframe\">\n",
       "  <thead>\n",
       "    <tr style=\"text-align: right;\">\n",
       "      <th>grupo</th>\n",
       "      <th>0</th>\n",
       "      <th>1</th>\n",
       "      <th>2</th>\n",
       "      <th>3</th>\n",
       "      <th>4</th>\n",
       "      <th>5</th>\n",
       "      <th>6</th>\n",
       "    </tr>\n",
       "    <tr>\n",
       "      <th>Species</th>\n",
       "      <th></th>\n",
       "      <th></th>\n",
       "      <th></th>\n",
       "      <th></th>\n",
       "      <th></th>\n",
       "      <th></th>\n",
       "      <th></th>\n",
       "    </tr>\n",
       "  </thead>\n",
       "  <tbody>\n",
       "    <tr>\n",
       "      <th>Bream</th>\n",
       "      <td>3</td>\n",
       "      <td>0</td>\n",
       "      <td>25</td>\n",
       "      <td>0</td>\n",
       "      <td>7</td>\n",
       "      <td>0</td>\n",
       "      <td>0</td>\n",
       "    </tr>\n",
       "    <tr>\n",
       "      <th>Parkki</th>\n",
       "      <td>2</td>\n",
       "      <td>0</td>\n",
       "      <td>0</td>\n",
       "      <td>2</td>\n",
       "      <td>0</td>\n",
       "      <td>7</td>\n",
       "      <td>0</td>\n",
       "    </tr>\n",
       "    <tr>\n",
       "      <th>Perch</th>\n",
       "      <td>8</td>\n",
       "      <td>0</td>\n",
       "      <td>2</td>\n",
       "      <td>5</td>\n",
       "      <td>17</td>\n",
       "      <td>24</td>\n",
       "      <td>0</td>\n",
       "    </tr>\n",
       "    <tr>\n",
       "      <th>Pike</th>\n",
       "      <td>6</td>\n",
       "      <td>7</td>\n",
       "      <td>0</td>\n",
       "      <td>0</td>\n",
       "      <td>0</td>\n",
       "      <td>0</td>\n",
       "      <td>4</td>\n",
       "    </tr>\n",
       "    <tr>\n",
       "      <th>Roach</th>\n",
       "      <td>2</td>\n",
       "      <td>0</td>\n",
       "      <td>1</td>\n",
       "      <td>1</td>\n",
       "      <td>0</td>\n",
       "      <td>16</td>\n",
       "      <td>0</td>\n",
       "    </tr>\n",
       "    <tr>\n",
       "      <th>Smelt</th>\n",
       "      <td>0</td>\n",
       "      <td>0</td>\n",
       "      <td>0</td>\n",
       "      <td>14</td>\n",
       "      <td>0</td>\n",
       "      <td>0</td>\n",
       "      <td>0</td>\n",
       "    </tr>\n",
       "    <tr>\n",
       "      <th>Whitefish</th>\n",
       "      <td>3</td>\n",
       "      <td>0</td>\n",
       "      <td>1</td>\n",
       "      <td>0</td>\n",
       "      <td>2</td>\n",
       "      <td>0</td>\n",
       "      <td>0</td>\n",
       "    </tr>\n",
       "  </tbody>\n",
       "</table>\n",
       "</div>"
      ],
      "text/plain": [
       "grupo      0  1   2   3   4   5  6\n",
       "Species                           \n",
       "Bream      3  0  25   0   7   0  0\n",
       "Parkki     2  0   0   2   0   7  0\n",
       "Perch      8  0   2   5  17  24  0\n",
       "Pike       6  7   0   0   0   0  4\n",
       "Roach      2  0   1   1   0  16  0\n",
       "Smelt      0  0   0  14   0   0  0\n",
       "Whitefish  3  0   1   0   2   0  0"
      ]
     },
     "execution_count": 83,
     "metadata": {},
     "output_type": "execute_result"
    }
   ],
   "source": [
    "tabla_contingencia = pd.crosstab(df['Species'], df['grupo'])\n",
    "tabla_contingencia"
   ]
  },
  {
   "cell_type": "markdown",
   "metadata": {},
   "source": [
    "Vamos a comprar con otro modelo de machine learning no supervisado, como es la agrupacion por K-means"
   ]
  },
  {
   "cell_type": "markdown",
   "metadata": {},
   "source": [
    "### Modelo K-means"
   ]
  },
  {
   "cell_type": "code",
   "execution_count": 84,
   "metadata": {},
   "outputs": [
    {
     "name": "stdout",
     "output_type": "stream",
     "text": [
      "Coeficiente de silueta de KMeans: 0.4603502515807795\n"
     ]
    }
   ],
   "source": [
    "from sklearn.cluster import KMeans\n",
    "from sklearn.metrics import silhouette_score\n",
    "\n",
    "df = pd.read_csv(r'C:\\Users\\GermanBo\\Desktop\\Kschool\\machine learning\\Notebooks\\Fish.csv')\n",
    "X_scaled = scale(df.iloc[:, 1:])\n",
    "\n",
    "\n",
    "# Modelo\n",
    "modelo_kmeans = KMeans(n_clusters=7, n_init=25, random_state=123)\n",
    "modelo_kmeans.fit(X=X_scaled)\n",
    "\n",
    "y_predict = modelo_kmeans.predict(X=X_scaled)\n",
    "df['grupo_kmean'] = y_predict\n",
    "\n",
    "coeficiente_silueta = silhouette_score(X_scaled, y_predict)\n",
    "print(\"Coeficiente de silueta de KMeans:\", coeficiente_silueta)"
   ]
  },
  {
   "cell_type": "code",
   "execution_count": 85,
   "metadata": {},
   "outputs": [
    {
     "data": {
      "text/html": [
       "<div>\n",
       "<style scoped>\n",
       "    .dataframe tbody tr th:only-of-type {\n",
       "        vertical-align: middle;\n",
       "    }\n",
       "\n",
       "    .dataframe tbody tr th {\n",
       "        vertical-align: top;\n",
       "    }\n",
       "\n",
       "    .dataframe thead th {\n",
       "        text-align: right;\n",
       "    }\n",
       "</style>\n",
       "<table border=\"1\" class=\"dataframe\">\n",
       "  <thead>\n",
       "    <tr style=\"text-align: right;\">\n",
       "      <th>grupo_kmean</th>\n",
       "      <th>0</th>\n",
       "      <th>1</th>\n",
       "      <th>2</th>\n",
       "      <th>3</th>\n",
       "      <th>4</th>\n",
       "      <th>5</th>\n",
       "      <th>6</th>\n",
       "    </tr>\n",
       "    <tr>\n",
       "      <th>Species</th>\n",
       "      <th></th>\n",
       "      <th></th>\n",
       "      <th></th>\n",
       "      <th></th>\n",
       "      <th></th>\n",
       "      <th></th>\n",
       "      <th></th>\n",
       "    </tr>\n",
       "  </thead>\n",
       "  <tbody>\n",
       "    <tr>\n",
       "      <th>Bream</th>\n",
       "      <td>0</td>\n",
       "      <td>0</td>\n",
       "      <td>7</td>\n",
       "      <td>3</td>\n",
       "      <td>0</td>\n",
       "      <td>0</td>\n",
       "      <td>25</td>\n",
       "    </tr>\n",
       "    <tr>\n",
       "      <th>Parkki</th>\n",
       "      <td>0</td>\n",
       "      <td>8</td>\n",
       "      <td>0</td>\n",
       "      <td>3</td>\n",
       "      <td>0</td>\n",
       "      <td>0</td>\n",
       "      <td>0</td>\n",
       "    </tr>\n",
       "    <tr>\n",
       "      <th>Perch</th>\n",
       "      <td>0</td>\n",
       "      <td>22</td>\n",
       "      <td>17</td>\n",
       "      <td>12</td>\n",
       "      <td>3</td>\n",
       "      <td>0</td>\n",
       "      <td>2</td>\n",
       "    </tr>\n",
       "    <tr>\n",
       "      <th>Pike</th>\n",
       "      <td>11</td>\n",
       "      <td>0</td>\n",
       "      <td>0</td>\n",
       "      <td>1</td>\n",
       "      <td>0</td>\n",
       "      <td>5</td>\n",
       "      <td>0</td>\n",
       "    </tr>\n",
       "    <tr>\n",
       "      <th>Roach</th>\n",
       "      <td>0</td>\n",
       "      <td>13</td>\n",
       "      <td>0</td>\n",
       "      <td>6</td>\n",
       "      <td>1</td>\n",
       "      <td>0</td>\n",
       "      <td>0</td>\n",
       "    </tr>\n",
       "    <tr>\n",
       "      <th>Smelt</th>\n",
       "      <td>0</td>\n",
       "      <td>0</td>\n",
       "      <td>0</td>\n",
       "      <td>0</td>\n",
       "      <td>14</td>\n",
       "      <td>0</td>\n",
       "      <td>0</td>\n",
       "    </tr>\n",
       "    <tr>\n",
       "      <th>Whitefish</th>\n",
       "      <td>0</td>\n",
       "      <td>0</td>\n",
       "      <td>2</td>\n",
       "      <td>3</td>\n",
       "      <td>0</td>\n",
       "      <td>0</td>\n",
       "      <td>1</td>\n",
       "    </tr>\n",
       "  </tbody>\n",
       "</table>\n",
       "</div>"
      ],
      "text/plain": [
       "grupo_kmean   0   1   2   3   4  5   6\n",
       "Species                               \n",
       "Bream         0   0   7   3   0  0  25\n",
       "Parkki        0   8   0   3   0  0   0\n",
       "Perch         0  22  17  12   3  0   2\n",
       "Pike         11   0   0   1   0  5   0\n",
       "Roach         0  13   0   6   1  0   0\n",
       "Smelt         0   0   0   0  14  0   0\n",
       "Whitefish     0   0   2   3   0  0   1"
      ]
     },
     "execution_count": 85,
     "metadata": {},
     "output_type": "execute_result"
    }
   ],
   "source": [
    "tabla_contingencia = pd.crosstab(df['Species'], df['grupo_kmean'])\n",
    "tabla_contingencia"
   ]
  },
  {
   "cell_type": "markdown",
   "metadata": {},
   "source": [
    "Este resultado seria mejor que el obtenido para el dendrograma , con lo que seria mas interesante el utilizar el este modelo para separar por grupos. Pero, tanto el modelo de dendrograma como la separación por K-Means no logran separar los grupos por especies. Esta falta de coincidencia sugiere que las variables utilizadas por estos modelos para formar los clusters pueden no ser las más adecuadas para diferenciar entre las especies de peces en este conjunto de datos. La clasificación taxonómica de las especies de peces podría estar menos influenciada por las variables proporcionadas en este dataset y más por características genéticas u otros factores que no están reflejados en las variables utilizadas en el análisis de clustering."
   ]
  },
  {
   "cell_type": "markdown",
   "metadata": {},
   "source": [
    "#### Optimizacion del numero de grupos por silueta "
   ]
  },
  {
   "cell_type": "markdown",
   "metadata": {},
   "source": [
    "Dado esto, se va a buscar obtener la mejor clasificacion de los grupos segun ambos modelos "
   ]
  },
  {
   "cell_type": "markdown",
   "metadata": {},
   "source": [
    "### Kmeans"
   ]
  },
  {
   "cell_type": "code",
   "execution_count": 86,
   "metadata": {},
   "outputs": [
    {
     "name": "stdout",
     "output_type": "stream",
     "text": [
      "num_clusters 2 score 0.5527418060364624\n"
     ]
    },
    {
     "name": "stdout",
     "output_type": "stream",
     "text": [
      "num_clusters 3 score 0.44720028846627946\n",
      "num_clusters 4 score 0.46390326401972104\n",
      "num_clusters 5 score 0.4426271515210892\n",
      "num_clusters 6 score 0.4977064173652521\n",
      "num_clusters 7 score 0.4603502515807795\n",
      "num_clusters 8 score 0.46575360759965373\n",
      "num_clusters 9 score 0.4713238676917066\n",
      "num_clusters 10 score 0.47593573105803116\n",
      "Número óptimo de clústeres: 2\n"
     ]
    }
   ],
   "source": [
    "\n",
    "silhouette_scores = []\n",
    "num_clusters_range = range(2, 11)\n",
    "\n",
    "# Ajuste del modelo y puntuación para cada numero de grupo\n",
    "for num_clusters in num_clusters_range:\n",
    "    modelo_kmeans = KMeans(n_clusters=num_clusters, n_init=25, random_state=123)\n",
    "    labels = modelo_kmeans.fit_predict(X_scaled)\n",
    "    silhouette_avg = silhouette_score(X_scaled, labels)\n",
    "    print(\"num_clusters\",num_clusters, \"score\",silhouette_avg)\n",
    "    silhouette_scores.append(silhouette_avg)\n",
    "\n",
    "# Encuentra el número óptimo de clústeres que maximiza la puntuación de silueta\n",
    "optimal_num_clusters = num_clusters_range[silhouette_scores.index(max(silhouette_scores))]\n",
    "\n",
    "print(\"Número óptimo de clústeres:\", optimal_num_clusters)"
   ]
  },
  {
   "cell_type": "markdown",
   "metadata": {},
   "source": [
    "### Dendrograma"
   ]
  },
  {
   "cell_type": "code",
   "execution_count": 95,
   "metadata": {},
   "outputs": [
    {
     "name": "stdout",
     "output_type": "stream",
     "text": [
      "2 0.49384940800394084\n",
      "3 0.4841236768276438\n",
      "4 0.423707598059579\n",
      "5 0.4286048610610895\n",
      "6 0.4196753803077938\n",
      "7 0.45795529675324453\n",
      "8 0.4596509909094292\n",
      "9 0.4556837902485868\n",
      "10 0.47269542229790773\n",
      "Coeficiente de silueta 'complete': 2\n"
     ]
    }
   ],
   "source": [
    "\n",
    "silhouette_scores = []\n",
    "num_clusters_range = range(2, 11)\n",
    "\n",
    "# Ajuste del modelo y puntuación para cada numero de grupo\n",
    "for num_clusters in num_clusters_range:\n",
    "    modelo_hclust_complete = AgglomerativeClustering(\n",
    "                            metric  = 'euclidean',\n",
    "                            linkage  = 'complete',\n",
    "                            distance_threshold = None,\n",
    "                            n_clusters         = num_clusters\n",
    "                        )\n",
    "    modelo_hclust_complete.fit(X=X_scaled)\n",
    "    coeficiente_silueta = silhouette_score(X_scaled, modelo_hclust_complete.labels_)\n",
    "    silhouette_scores.append(coeficiente_silueta)\n",
    "    print(num_clusters, coeficiente_silueta)\n",
    "\n",
    "coeficiente_optimo = num_clusters_range[silhouette_scores.index(max(silhouette_scores))]\n",
    "print(\"Coeficiente de silueta 'complete':\", coeficiente_optimo)"
   ]
  },
  {
   "cell_type": "markdown",
   "metadata": {},
   "source": [
    "Vemos por tanto que el modelo que separa mejor es el Kmean con solo 2 grupos. "
   ]
  },
  {
   "cell_type": "code",
   "execution_count": 98,
   "metadata": {},
   "outputs": [
    {
     "name": "stdout",
     "output_type": "stream",
     "text": [
      "Coeficiente de silueta de KMeans: 0.5527418060364624\n"
     ]
    }
   ],
   "source": [
    "# Ajustamos el modelo KMeans con el número óptimo de clústeres\n",
    "\n",
    "modelo_kmeans = KMeans(n_clusters=2, n_init=25, random_state=123)\n",
    "modelo_kmeans.fit(X=X_scaled)\n",
    "\n",
    "y_predict = modelo_kmeans.predict(X=X_scaled)\n",
    "df['grupo_kmean'] = y_predict\n",
    "\n",
    "coeficiente_silueta = silhouette_score(X_scaled, y_predict)\n",
    "print(\"Coeficiente de silueta de KMeans:\", coeficiente_silueta)"
   ]
  },
  {
   "cell_type": "markdown",
   "metadata": {},
   "source": [
    "Por lo tanto, observamos que la forma más efectiva de dividir los datos es utilizando únicamente dos grupos mediante KMeans. Sin embargo, dado que esto es simplemente un ejercicio teórico, no es suficiente para una aplicación práctica. Como se mencionó anteriormente, estos modelos no serían la mejor opción para clasificar según especies, probablemente porque la clasificación de especies no está directamente relacionada con las variables medidas en este contexto."
   ]
  },
  {
   "cell_type": "markdown",
   "metadata": {},
   "source": [
    "### Variables mas representantivas"
   ]
  },
  {
   "cell_type": "code",
   "execution_count": 106,
   "metadata": {},
   "outputs": [
    {
     "name": "stdout",
     "output_type": "stream",
     "text": [
      "Centroides de los clusters:\n",
      "     Weight   Length1   Length2   Length3    Height     Width\n",
      "0 -0.729136 -0.712156 -0.713963 -0.735306 -0.657837 -0.699901\n",
      "1  0.927044  0.905456  0.907752  0.934889  0.836393  0.889874\n"
     ]
    }
   ],
   "source": [
    "centroides = modelo_kmeans.cluster_centers_\n",
    "\n",
    "# Crear un DataFrame para visualizar los centroides\n",
    "df_centroides = pd.DataFrame(centroides, columns=df.iloc[:, 1:7].columns)\n",
    "\n",
    "# Mostrar los centroides\n",
    "print(\"Centroides de los clusters:\")\n",
    "print(df_centroides)\n"
   ]
  }
 ],
 "metadata": {
  "kernelspec": {
   "display_name": "Python 3.11.1 64-bit",
   "language": "python",
   "name": "python3"
  },
  "language_info": {
   "codemirror_mode": {
    "name": "ipython",
    "version": 3
   },
   "file_extension": ".py",
   "mimetype": "text/x-python",
   "name": "python",
   "nbconvert_exporter": "python",
   "pygments_lexer": "ipython3",
   "version": "3.12.0"
  },
  "orig_nbformat": 4,
  "vscode": {
   "interpreter": {
    "hash": "e9aa6a11b99324d859a1fa363ee8bf341696f646b0a09d990d55b2bcab7e45bf"
   }
  }
 },
 "nbformat": 4,
 "nbformat_minor": 2
}

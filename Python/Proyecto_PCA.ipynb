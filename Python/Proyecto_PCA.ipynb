{
 "cells": [
  {
   "cell_type": "markdown",
   "metadata": {},
   "source": [
    "# Proyecto PCA \n",
    "\n",
    "En este notebook vamos en primer lugar a fusionar dos dataset (hormonas y peso) para luego realizar un analisis PCA"
   ]
  },
  {
   "cell_type": "code",
   "execution_count": 1,
   "metadata": {},
   "outputs": [
    {
     "name": "stdout",
     "output_type": "stream",
     "text": [
      "C:\\Users\\GermanBo\\Desktop\\Kschool\\proyectos\\PCA\n"
     ]
    },
    {
     "name": "stderr",
     "output_type": "stream",
     "text": [
      "C:\\Users\\GermanBo\\AppData\\Roaming\\Python\\Python312\\site-packages\\IPython\\core\\magics\\osm.py:417: UserWarning: using dhist requires you to install the `pickleshare` library.\n",
      "  self.shell.db['dhist'] = compress_dhist(dhist)[-100:]\n"
     ]
    }
   ],
   "source": [
    "cd C:\\Users\\GermanBo\\Desktop\\Kschool\\proyectos\\PCA"
   ]
  },
  {
   "cell_type": "code",
   "execution_count": 2,
   "metadata": {},
   "outputs": [
    {
     "name": "stdout",
     "output_type": "stream",
     "text": [
      " El volumen de la unidad C no tiene etiqueta.\n",
      " El n�mero de serie del volumen es: DEF4-F44C\n",
      "\n",
      " Directorio de C:\\Users\\GermanBo\\Desktop\\Kschool\\proyectos\\PCA\n",
      "\n",
      "27/02/2024  17:50    <DIR>          .\n",
      "27/02/2024  17:50    <DIR>          ..\n",
      "27/02/2024  17:51             5.508 fusion_hor_pes.csv\n",
      "22/05/2023  17:04            13.224 HFeG_6_Rep.xlsx\n",
      "16/09/2022  01:59            36.932 Hormonas _FeSBi.xlsx\n",
      "08/11/2021  00:53           741.931 ICP_HFeG_6.xlsx\n",
      "16/01/2024  15:43           115.189 nombre_del_archivo.csv\n",
      "27/02/2024  17:50            20.361 Peso_FeSBi.xlsx\n",
      "               6 archivos        933.145 bytes\n",
      "               2 dirs  163.763.609.600 bytes libres\n"
     ]
    }
   ],
   "source": [
    "!dir"
   ]
  },
  {
   "cell_type": "code",
   "execution_count": 3,
   "metadata": {},
   "outputs": [],
   "source": [
    "import pandas as pd"
   ]
  },
  {
   "cell_type": "code",
   "execution_count": 4,
   "metadata": {},
   "outputs": [
    {
     "data": {
      "text/html": [
       "<div>\n",
       "<style scoped>\n",
       "    .dataframe tbody tr th:only-of-type {\n",
       "        vertical-align: middle;\n",
       "    }\n",
       "\n",
       "    .dataframe tbody tr th {\n",
       "        vertical-align: top;\n",
       "    }\n",
       "\n",
       "    .dataframe thead th {\n",
       "        text-align: right;\n",
       "    }\n",
       "</style>\n",
       "<table border=\"1\" class=\"dataframe\">\n",
       "  <thead>\n",
       "    <tr style=\"text-align: right;\">\n",
       "      <th></th>\n",
       "      <th>PRM</th>\n",
       "      <th>trat</th>\n",
       "      <th>t</th>\n",
       "      <th>Muestra</th>\n",
       "      <th>IAA</th>\n",
       "      <th>ABA</th>\n",
       "      <th>SA</th>\n",
       "      <th>JA</th>\n",
       "      <th>JAIle</th>\n",
       "      <th>pmoles/g</th>\n",
       "    </tr>\n",
       "  </thead>\n",
       "  <tbody>\n",
       "    <tr>\n",
       "      <th>188</th>\n",
       "      <td>P.a</td>\n",
       "      <td>Fe +</td>\n",
       "      <td>144</td>\n",
       "      <td>3A H 1</td>\n",
       "      <td>35.872005</td>\n",
       "      <td>29.616744</td>\n",
       "      <td>398.938155</td>\n",
       "      <td>8.369423</td>\n",
       "      <td>0.771506</td>\n",
       "      <td>NaN</td>\n",
       "    </tr>\n",
       "    <tr>\n",
       "      <th>189</th>\n",
       "      <td>P.a</td>\n",
       "      <td>Fe +</td>\n",
       "      <td>144</td>\n",
       "      <td>3A H 2</td>\n",
       "      <td>39.313590</td>\n",
       "      <td>26.122861</td>\n",
       "      <td>200.690131</td>\n",
       "      <td>7.923664</td>\n",
       "      <td>0.530082</td>\n",
       "      <td>NaN</td>\n",
       "    </tr>\n",
       "    <tr>\n",
       "      <th>190</th>\n",
       "      <td>P.a</td>\n",
       "      <td>Fe +</td>\n",
       "      <td>144</td>\n",
       "      <td>3A H 3</td>\n",
       "      <td>48.186750</td>\n",
       "      <td>29.534267</td>\n",
       "      <td>2159.692029</td>\n",
       "      <td>5.989211</td>\n",
       "      <td>0.360750</td>\n",
       "      <td>NaN</td>\n",
       "    </tr>\n",
       "    <tr>\n",
       "      <th>191</th>\n",
       "      <td>P.a</td>\n",
       "      <td>Fe +</td>\n",
       "      <td>144</td>\n",
       "      <td>3A H 4</td>\n",
       "      <td>33.123929</td>\n",
       "      <td>29.985728</td>\n",
       "      <td>333.584169</td>\n",
       "      <td>8.439205</td>\n",
       "      <td>0.737358</td>\n",
       "      <td>NaN</td>\n",
       "    </tr>\n",
       "    <tr>\n",
       "      <th>192</th>\n",
       "      <td>P.a</td>\n",
       "      <td>Fe +</td>\n",
       "      <td>144</td>\n",
       "      <td>3A H 5</td>\n",
       "      <td>37.862381</td>\n",
       "      <td>32.975808</td>\n",
       "      <td>233.548572</td>\n",
       "      <td>11.988633</td>\n",
       "      <td>0.489845</td>\n",
       "      <td>NaN</td>\n",
       "    </tr>\n",
       "  </tbody>\n",
       "</table>\n",
       "</div>"
      ],
      "text/plain": [
       "     PRM  trat    t  Muestra        IAA        ABA           SA         JA  \\\n",
       "188  P.a  Fe +  144   3A H 1  35.872005  29.616744   398.938155   8.369423   \n",
       "189  P.a  Fe +  144   3A H 2  39.313590  26.122861   200.690131   7.923664   \n",
       "190  P.a  Fe +  144   3A H 3  48.186750  29.534267  2159.692029   5.989211   \n",
       "191  P.a  Fe +  144   3A H 4  33.123929  29.985728   333.584169   8.439205   \n",
       "192  P.a  Fe +  144  3A H 5   37.862381  32.975808   233.548572  11.988633   \n",
       "\n",
       "        JAIle  pmoles/g  \n",
       "188  0.771506       NaN  \n",
       "189  0.530082       NaN  \n",
       "190  0.360750       NaN  \n",
       "191  0.737358       NaN  \n",
       "192  0.489845       NaN  "
      ]
     },
     "execution_count": 4,
     "metadata": {},
     "output_type": "execute_result"
    }
   ],
   "source": [
    "df_h = pd.read_excel('Hormonas _FeSBi.xlsx', sheet_name=\"Resumen\", skiprows=1)\n",
    "df_h = df_h[(df_h[\"t\"] == 144) & (df_h[\"PRM\"] == \"P.a\")]\n",
    "df_h.head()\n"
   ]
  },
  {
   "cell_type": "code",
   "execution_count": 5,
   "metadata": {},
   "outputs": [
    {
     "data": {
      "text/html": [
       "<div>\n",
       "<style scoped>\n",
       "    .dataframe tbody tr th:only-of-type {\n",
       "        vertical-align: middle;\n",
       "    }\n",
       "\n",
       "    .dataframe tbody tr th {\n",
       "        vertical-align: top;\n",
       "    }\n",
       "\n",
       "    .dataframe thead th {\n",
       "        text-align: right;\n",
       "    }\n",
       "</style>\n",
       "<table border=\"1\" class=\"dataframe\">\n",
       "  <thead>\n",
       "    <tr style=\"text-align: right;\">\n",
       "      <th></th>\n",
       "      <th>trat</th>\n",
       "      <th>P.aerea</th>\n",
       "      <th>Hoja</th>\n",
       "      <th>Raiz</th>\n",
       "    </tr>\n",
       "  </thead>\n",
       "  <tbody>\n",
       "    <tr>\n",
       "      <th>0</th>\n",
       "      <td>Fe+</td>\n",
       "      <td>0.96</td>\n",
       "      <td>0.11</td>\n",
       "      <td>0.30</td>\n",
       "    </tr>\n",
       "    <tr>\n",
       "      <th>1</th>\n",
       "      <td>Fe+</td>\n",
       "      <td>1.01</td>\n",
       "      <td>0.10</td>\n",
       "      <td>0.35</td>\n",
       "    </tr>\n",
       "    <tr>\n",
       "      <th>2</th>\n",
       "      <td>Fe+</td>\n",
       "      <td>1.44</td>\n",
       "      <td>0.17</td>\n",
       "      <td>0.45</td>\n",
       "    </tr>\n",
       "    <tr>\n",
       "      <th>3</th>\n",
       "      <td>Fe+</td>\n",
       "      <td>0.95</td>\n",
       "      <td>0.07</td>\n",
       "      <td>0.28</td>\n",
       "    </tr>\n",
       "    <tr>\n",
       "      <th>4</th>\n",
       "      <td>Fe+</td>\n",
       "      <td>1.00</td>\n",
       "      <td>0.10</td>\n",
       "      <td>0.46</td>\n",
       "    </tr>\n",
       "  </tbody>\n",
       "</table>\n",
       "</div>"
      ],
      "text/plain": [
       "  trat  P.aerea  Hoja  Raiz\n",
       "0  Fe+     0.96  0.11  0.30\n",
       "1  Fe+     1.01  0.10  0.35\n",
       "2  Fe+     1.44  0.17  0.45\n",
       "3  Fe+     0.95  0.07  0.28\n",
       "4  Fe+     1.00  0.10  0.46"
      ]
     },
     "execution_count": 5,
     "metadata": {},
     "output_type": "execute_result"
    }
   ],
   "source": [
    "df_p = pd.read_excel(\"Peso_FeSBi.xlsx\", skiprows=1)\n",
    "\n",
    "df_p = df_p.iloc[0:40,]\n",
    "df_p = df_p[[\"trat\",\"P.aerea\",\"Hoja\",\"Raiz\"]]\n",
    "df_p.head()"
   ]
  },
  {
   "cell_type": "markdown",
   "metadata": {},
   "source": [
    "### Fusion datos\n"
   ]
  },
  {
   "cell_type": "code",
   "execution_count": 6,
   "metadata": {},
   "outputs": [
    {
     "name": "stdout",
     "output_type": "stream",
     "text": [
      "(40, 4) (40, 10)\n"
     ]
    }
   ],
   "source": [
    "print( df_p.shape , df_h.shape)"
   ]
  },
  {
   "cell_type": "code",
   "execution_count": 7,
   "metadata": {},
   "outputs": [],
   "source": [
    "df_p.reset_index(drop=True, inplace=True)\n",
    "df_h.reset_index(drop=True, inplace=True)"
   ]
  },
  {
   "cell_type": "code",
   "execution_count": 8,
   "metadata": {},
   "outputs": [
    {
     "data": {
      "text/html": [
       "<div>\n",
       "<style scoped>\n",
       "    .dataframe tbody tr th:only-of-type {\n",
       "        vertical-align: middle;\n",
       "    }\n",
       "\n",
       "    .dataframe tbody tr th {\n",
       "        vertical-align: top;\n",
       "    }\n",
       "\n",
       "    .dataframe thead th {\n",
       "        text-align: right;\n",
       "    }\n",
       "</style>\n",
       "<table border=\"1\" class=\"dataframe\">\n",
       "  <thead>\n",
       "    <tr style=\"text-align: right;\">\n",
       "      <th></th>\n",
       "      <th>trat</th>\n",
       "      <th>P.aerea</th>\n",
       "      <th>Hoja</th>\n",
       "      <th>Raiz</th>\n",
       "      <th>PRM</th>\n",
       "      <th>trat</th>\n",
       "      <th>t</th>\n",
       "      <th>Muestra</th>\n",
       "      <th>IAA</th>\n",
       "      <th>ABA</th>\n",
       "      <th>SA</th>\n",
       "      <th>JA</th>\n",
       "      <th>JAIle</th>\n",
       "      <th>pmoles/g</th>\n",
       "    </tr>\n",
       "  </thead>\n",
       "  <tbody>\n",
       "    <tr>\n",
       "      <th>0</th>\n",
       "      <td>Fe+</td>\n",
       "      <td>0.96</td>\n",
       "      <td>0.11</td>\n",
       "      <td>0.30</td>\n",
       "      <td>P.a</td>\n",
       "      <td>Fe +</td>\n",
       "      <td>144</td>\n",
       "      <td>3A H 1</td>\n",
       "      <td>35.872005</td>\n",
       "      <td>29.616744</td>\n",
       "      <td>398.938155</td>\n",
       "      <td>8.369423</td>\n",
       "      <td>0.771506</td>\n",
       "      <td>NaN</td>\n",
       "    </tr>\n",
       "    <tr>\n",
       "      <th>1</th>\n",
       "      <td>Fe+</td>\n",
       "      <td>1.01</td>\n",
       "      <td>0.10</td>\n",
       "      <td>0.35</td>\n",
       "      <td>P.a</td>\n",
       "      <td>Fe +</td>\n",
       "      <td>144</td>\n",
       "      <td>3A H 2</td>\n",
       "      <td>39.313590</td>\n",
       "      <td>26.122861</td>\n",
       "      <td>200.690131</td>\n",
       "      <td>7.923664</td>\n",
       "      <td>0.530082</td>\n",
       "      <td>NaN</td>\n",
       "    </tr>\n",
       "    <tr>\n",
       "      <th>2</th>\n",
       "      <td>Fe+</td>\n",
       "      <td>1.44</td>\n",
       "      <td>0.17</td>\n",
       "      <td>0.45</td>\n",
       "      <td>P.a</td>\n",
       "      <td>Fe +</td>\n",
       "      <td>144</td>\n",
       "      <td>3A H 3</td>\n",
       "      <td>48.186750</td>\n",
       "      <td>29.534267</td>\n",
       "      <td>2159.692029</td>\n",
       "      <td>5.989211</td>\n",
       "      <td>0.360750</td>\n",
       "      <td>NaN</td>\n",
       "    </tr>\n",
       "    <tr>\n",
       "      <th>3</th>\n",
       "      <td>Fe+</td>\n",
       "      <td>0.95</td>\n",
       "      <td>0.07</td>\n",
       "      <td>0.28</td>\n",
       "      <td>P.a</td>\n",
       "      <td>Fe +</td>\n",
       "      <td>144</td>\n",
       "      <td>3A H 4</td>\n",
       "      <td>33.123929</td>\n",
       "      <td>29.985728</td>\n",
       "      <td>333.584169</td>\n",
       "      <td>8.439205</td>\n",
       "      <td>0.737358</td>\n",
       "      <td>NaN</td>\n",
       "    </tr>\n",
       "    <tr>\n",
       "      <th>4</th>\n",
       "      <td>Fe+</td>\n",
       "      <td>1.00</td>\n",
       "      <td>0.10</td>\n",
       "      <td>0.46</td>\n",
       "      <td>P.a</td>\n",
       "      <td>Fe +</td>\n",
       "      <td>144</td>\n",
       "      <td>3A H 5</td>\n",
       "      <td>37.862381</td>\n",
       "      <td>32.975808</td>\n",
       "      <td>233.548572</td>\n",
       "      <td>11.988633</td>\n",
       "      <td>0.489845</td>\n",
       "      <td>NaN</td>\n",
       "    </tr>\n",
       "  </tbody>\n",
       "</table>\n",
       "</div>"
      ],
      "text/plain": [
       "  trat  P.aerea  Hoja  Raiz  PRM  trat    t  Muestra        IAA        ABA  \\\n",
       "0  Fe+     0.96  0.11  0.30  P.a  Fe +  144   3A H 1  35.872005  29.616744   \n",
       "1  Fe+     1.01  0.10  0.35  P.a  Fe +  144   3A H 2  39.313590  26.122861   \n",
       "2  Fe+     1.44  0.17  0.45  P.a  Fe +  144   3A H 3  48.186750  29.534267   \n",
       "3  Fe+     0.95  0.07  0.28  P.a  Fe +  144   3A H 4  33.123929  29.985728   \n",
       "4  Fe+     1.00  0.10  0.46  P.a  Fe +  144  3A H 5   37.862381  32.975808   \n",
       "\n",
       "            SA         JA     JAIle  pmoles/g  \n",
       "0   398.938155   8.369423  0.771506       NaN  \n",
       "1   200.690131   7.923664  0.530082       NaN  \n",
       "2  2159.692029   5.989211  0.360750       NaN  \n",
       "3   333.584169   8.439205  0.737358       NaN  \n",
       "4   233.548572  11.988633  0.489845       NaN  "
      ]
     },
     "execution_count": 8,
     "metadata": {},
     "output_type": "execute_result"
    }
   ],
   "source": [
    "df_fusion = pd.concat([df_p, df_h], axis = 1)\n",
    "df_fusion.head()"
   ]
  },
  {
   "cell_type": "code",
   "execution_count": 9,
   "metadata": {},
   "outputs": [
    {
     "name": "stdout",
     "output_type": "stream",
     "text": [
      "<class 'pandas.core.frame.DataFrame'>\n",
      "RangeIndex: 40 entries, 0 to 39\n",
      "Data columns (total 14 columns):\n",
      " #   Column    Non-Null Count  Dtype  \n",
      "---  ------    --------------  -----  \n",
      " 0   trat      40 non-null     object \n",
      " 1   P.aerea   40 non-null     float64\n",
      " 2   Hoja      40 non-null     float64\n",
      " 3   Raiz      40 non-null     float64\n",
      " 4   PRM       40 non-null     object \n",
      " 5   trat      40 non-null     object \n",
      " 6   t         40 non-null     int64  \n",
      " 7   Muestra   40 non-null     object \n",
      " 8   IAA       40 non-null     float64\n",
      " 9   ABA       40 non-null     float64\n",
      " 10  SA        40 non-null     float64\n",
      " 11  JA        40 non-null     float64\n",
      " 12  JAIle     40 non-null     float64\n",
      " 13  pmoles/g  0 non-null      float64\n",
      "dtypes: float64(9), int64(1), object(4)\n",
      "memory usage: 4.5+ KB\n"
     ]
    }
   ],
   "source": [
    "df_fusion.info()"
   ]
  },
  {
   "cell_type": "code",
   "execution_count": 10,
   "metadata": {},
   "outputs": [],
   "source": [
    "df_fusion.to_csv('fusion_hor_pes.csv', index=False)"
   ]
  },
  {
   "cell_type": "markdown",
   "metadata": {},
   "source": [
    "### Analisis PCA "
   ]
  },
  {
   "cell_type": "code",
   "execution_count": 17,
   "metadata": {},
   "outputs": [],
   "source": [
    "import pandas as pd\n",
    "import numpy as np\n",
    "from sklearn.decomposition import PCA\n",
    "from sklearn.preprocessing import StandardScaler\n",
    "import matplotlib.pyplot as plt\n",
    "import seaborn as sn"
   ]
  },
  {
   "cell_type": "code",
   "execution_count": 11,
   "metadata": {},
   "outputs": [
    {
     "name": "stdout",
     "output_type": "stream",
     "text": [
      "C:\\Users\\GermanBo\\Desktop\\Kschool\\proyectos\\PCA\n"
     ]
    },
    {
     "name": "stderr",
     "output_type": "stream",
     "text": [
      "C:\\Users\\GermanBo\\AppData\\Roaming\\Python\\Python312\\site-packages\\IPython\\core\\magics\\osm.py:417: UserWarning: using dhist requires you to install the `pickleshare` library.\n",
      "  self.shell.db['dhist'] = compress_dhist(dhist)[-100:]\n"
     ]
    }
   ],
   "source": [
    "cd C:\\Users\\GermanBo\\Desktop\\Kschool\\proyectos\\PCA"
   ]
  },
  {
   "cell_type": "code",
   "execution_count": 31,
   "metadata": {},
   "outputs": [
    {
     "name": "stdout",
     "output_type": "stream",
     "text": [
      "<class 'pandas.core.frame.DataFrame'>\n",
      "RangeIndex: 40 entries, 0 to 39\n",
      "Data columns (total 8 columns):\n",
      " #   Column   Non-Null Count  Dtype  \n",
      "---  ------   --------------  -----  \n",
      " 0   trat     40 non-null     object \n",
      " 1   P.aerea  40 non-null     float64\n",
      " 2   Hoja     40 non-null     float64\n",
      " 3   Raiz     40 non-null     float64\n",
      " 4   IAA      40 non-null     float64\n",
      " 5   ABA      40 non-null     float64\n",
      " 6   SA       40 non-null     float64\n",
      " 7   JA       40 non-null     float64\n",
      "dtypes: float64(7), object(1)\n",
      "memory usage: 2.6+ KB\n"
     ]
    }
   ],
   "source": [
    "df = pd.read_csv('fusion_hor_pes.csv')\n",
    "df= df[[\"trat\",\"P.aerea\",\"Hoja\",\"Raiz\", \"IAA\",\"ABA\",\"SA\",\"JA\"]]\n",
    "df.info()"
   ]
  },
  {
   "cell_type": "code",
   "execution_count": 29,
   "metadata": {},
   "outputs": [
    {
     "data": {
      "text/plain": [
       "array([[-1.16559141,  0.14702865, -0.98094324,  0.79891227, -0.78979185,\n",
       "        -0.47095186, -0.44509272],\n",
       "       [-0.88607309, -0.10867335, -0.28769713,  1.28481377, -0.87300145,\n",
       "        -0.78381338, -0.46893349],\n",
       "       [ 1.5177845 ,  1.68124068,  1.09879508,  2.53757468, -0.79175611,\n",
       "         2.30774988, -0.57239491],\n",
       "       [-1.22149508, -0.87577937, -1.25824168,  0.41092401, -0.78100421,\n",
       "        -0.57408907, -0.44136056],\n",
       "       [-0.94197675, -0.10867335,  1.2374443 ,  1.07992434, -0.70979309,\n",
       "        -0.73195843, -0.25152449],\n",
       "       [-1.05378408, -0.62007736, -0.28769713, -0.27703116, -1.00603033,\n",
       "         0.94497843,  0.17223898],\n",
       "       [ 0.34380754, -0.87577937,  1.2374443 ,  0.9887817 , -0.97211047,\n",
       "         1.34567078,  5.23268808],\n",
       "       [ 0.06428921, -0.87577937,  1.93069041, -0.11757028, -0.93407534,\n",
       "         1.19567673,  2.63183556],\n",
       "       [ 0.06428921, -0.36437536,  0.54419819, -0.93965034, -1.10324312,\n",
       "         0.78755912, -0.40905072],\n",
       "       [-1.05378408, -0.10867335, -0.42634636,  0.08219639, -0.95234086,\n",
       "         2.6784987 , -0.08301505],\n",
       "       [-0.43884377, -1.13148137, -0.84229402,  0.10034417, -0.59336631,\n",
       "        -0.58024514,  0.29995266],\n",
       "       [-0.88607309, -0.62007736, -1.67418935,  1.23013807, -0.65576892,\n",
       "        -0.56405553,  0.18560701],\n",
       "       [-1.38920607, -1.13148137, -1.39689091, -0.2657761 , -0.92137527,\n",
       "        -0.76292878, -0.27701135],\n",
       "       [ 0.34380754, -0.62007736,  0.68284742,  2.35594855, -0.80979155,\n",
       "        -0.82224368, -0.2256619 ],\n",
       "       [-0.99788042, -1.38718338, -1.25824168, -0.1925639 , -0.85701836,\n",
       "        -0.62362322, -0.32585868],\n",
       "       [-0.27113277, -0.62007736, -0.14904791,  0.07599398, -0.78794092,\n",
       "        -0.74751643, -0.18092366],\n",
       "       [-0.5506511 , -0.62007736,  0.12825053, -1.04043947, -0.9134953 ,\n",
       "        -0.80020879, -0.03895618],\n",
       "       [ 0.12019288, -2.15428939,  1.2374443 , -0.8997012 , -0.54647418,\n",
       "        -0.69117103,  0.44766741],\n",
       "       [-0.04751812, -0.62007736,  0.68284742, -0.53741849, -0.71514687,\n",
       "        -0.77457886, -0.36677935],\n",
       "       [-0.3829401 , -1.89858738,  1.51474274, -1.14246276, -0.66587613,\n",
       "        -0.75143546,  0.04864205],\n",
       "       [ 0.5674222 ,  0.91413467,  1.51474274,  1.29038711,  1.2228207 ,\n",
       "        -0.14058708, -0.35105249],\n",
       "       [ 1.40597717,  0.91413467,  0.82149664,  0.24307926,  0.97203593,\n",
       "        -0.41261088, -0.55191736],\n",
       "       [-0.21522911,  0.65843266, -0.42634636,  0.04935627,  0.6410169 ,\n",
       "        -0.40701756, -0.49506601],\n",
       "       [-1.27739874,  0.14702865, -0.14904791,  0.99235709,  0.91135163,\n",
       "        -0.48161414, -0.48635361],\n",
       "       [ 0.00838555, -0.10867335, -1.25824168,  0.00605193,  1.64187657,\n",
       "        -0.2898567 , -0.45942157],\n",
       "       [ 0.62332586, -0.10867335, -0.84229402, -0.94680312, -0.32341656,\n",
       "         0.1949312 , -0.53687936],\n",
       "       [ 2.30043581,  1.42553868,  0.68284742, -1.0822483 , -0.47947587,\n",
       "         0.45867047, -0.36285236],\n",
       "       [ 0.23200021,  0.91413467,  0.96014586, -1.19182886, -0.36442669,\n",
       "        -0.37681002,  0.0538372 ],\n",
       "       [-0.43884377, -0.36437536, -0.56499558,  0.06491395, -0.0880239 ,\n",
       "        -0.45715203, -0.31933601],\n",
       "       [-0.27113277, -0.10867335, -0.7036448 ,  0.73823921, -0.27872831,\n",
       "         2.40541929,  0.36043339],\n",
       "       [ 1.96501382,  2.44834669, -0.14904791, -0.46634458,  1.19466682,\n",
       "        -0.56245452, -0.51087567],\n",
       "       [ 0.28790387,  1.16983667,  0.68284742, -0.11118364,  0.57411568,\n",
       "        -0.19617712, -0.21422228],\n",
       "       [ 0.3997112 ,  0.65843266,  1.2374443 ,  1.79295965,  1.02173227,\n",
       "        -0.50099694,  0.72220547],\n",
       "       [-0.99788042,  0.14702865, -0.42634636, -0.93397484,  0.79728838,\n",
       "        -0.62280369, -0.59614171],\n",
       "       [-1.6687244 , -0.87577937, -0.84229402, -0.87134858,  0.84001311,\n",
       "        -0.54277573, -0.59317594],\n",
       "       [ 1.57368817,  1.68124068, -0.84229402, -0.86020479,  2.48291327,\n",
       "        -0.24029229,  0.18742388],\n",
       "       [ 0.45561487,  0.91413467, -1.81283857, -0.73707417,  2.22659019,\n",
       "         2.68241324,  0.17694684],\n",
       "       [ 0.73513319,  1.16983667, -0.56499558, -1.40516425,  0.96037808,\n",
       "         0.40475625, -0.10000723],\n",
       "       [ 1.23826618,  0.65843266, -0.42634636, -1.11948977,  1.4665634 ,\n",
       "        -0.33738395, -0.39956702],\n",
       "       [ 1.90911015,  0.65843266,  1.37609352, -0.9846178 ,  0.96010904,\n",
       "        -0.15897178, -0.45604685]])"
      ]
     },
     "execution_count": 29,
     "metadata": {},
     "output_type": "execute_result"
    }
   ],
   "source": [
    "df_1 = df.iloc[:,1:]\n",
    "\n",
    "df_scaled = StandardScaler().fit_transform(df_1)\n",
    "df_scaled"
   ]
  },
  {
   "cell_type": "code",
   "execution_count": 37,
   "metadata": {},
   "outputs": [
    {
     "data": {
      "text/html": [
       "<div>\n",
       "<style scoped>\n",
       "    .dataframe tbody tr th:only-of-type {\n",
       "        vertical-align: middle;\n",
       "    }\n",
       "\n",
       "    .dataframe tbody tr th {\n",
       "        vertical-align: top;\n",
       "    }\n",
       "\n",
       "    .dataframe thead th {\n",
       "        text-align: right;\n",
       "    }\n",
       "</style>\n",
       "<table border=\"1\" class=\"dataframe\">\n",
       "  <thead>\n",
       "    <tr style=\"text-align: right;\">\n",
       "      <th></th>\n",
       "      <th>PC1</th>\n",
       "      <th>PC2</th>\n",
       "      <th>PC3</th>\n",
       "      <th>PC4</th>\n",
       "      <th>PC5</th>\n",
       "      <th>PC6</th>\n",
       "      <th>PC7</th>\n",
       "      <th>trat</th>\n",
       "    </tr>\n",
       "  </thead>\n",
       "  <tbody>\n",
       "    <tr>\n",
       "      <th>0</th>\n",
       "      <td>-1.128514</td>\n",
       "      <td>-0.875897</td>\n",
       "      <td>0.606041</td>\n",
       "      <td>1.034876</td>\n",
       "      <td>-0.110603</td>\n",
       "      <td>0.404684</td>\n",
       "      <td>0.607790</td>\n",
       "      <td>Fe+</td>\n",
       "    </tr>\n",
       "    <tr>\n",
       "      <th>1</th>\n",
       "      <td>-1.230752</td>\n",
       "      <td>-0.407795</td>\n",
       "      <td>-0.030838</td>\n",
       "      <td>1.504517</td>\n",
       "      <td>-0.076902</td>\n",
       "      <td>0.295515</td>\n",
       "      <td>0.296702</td>\n",
       "      <td>Fe+</td>\n",
       "    </tr>\n",
       "    <tr>\n",
       "      <th>2</th>\n",
       "      <td>1.533530</td>\n",
       "      <td>2.558889</td>\n",
       "      <td>1.293104</td>\n",
       "      <td>2.318022</td>\n",
       "      <td>-1.730069</td>\n",
       "      <td>0.061929</td>\n",
       "      <td>-0.339343</td>\n",
       "      <td>Fe+</td>\n",
       "    </tr>\n",
       "    <tr>\n",
       "      <th>3</th>\n",
       "      <td>-1.747559</td>\n",
       "      <td>-1.224021</td>\n",
       "      <td>0.497205</td>\n",
       "      <td>0.443595</td>\n",
       "      <td>0.007678</td>\n",
       "      <td>0.385041</td>\n",
       "      <td>-0.030315</td>\n",
       "      <td>Fe+</td>\n",
       "    </tr>\n",
       "    <tr>\n",
       "      <th>4</th>\n",
       "      <td>-1.077263</td>\n",
       "      <td>0.456032</td>\n",
       "      <td>-0.915042</td>\n",
       "      <td>1.352799</td>\n",
       "      <td>-0.145389</td>\n",
       "      <td>-0.608950</td>\n",
       "      <td>0.521230</td>\n",
       "      <td>Fe+</td>\n",
       "    </tr>\n",
       "  </tbody>\n",
       "</table>\n",
       "</div>"
      ],
      "text/plain": [
       "        PC1       PC2       PC3       PC4       PC5       PC6       PC7 trat\n",
       "0 -1.128514 -0.875897  0.606041  1.034876 -0.110603  0.404684  0.607790  Fe+\n",
       "1 -1.230752 -0.407795 -0.030838  1.504517 -0.076902  0.295515  0.296702  Fe+\n",
       "2  1.533530  2.558889  1.293104  2.318022 -1.730069  0.061929 -0.339343  Fe+\n",
       "3 -1.747559 -1.224021  0.497205  0.443595  0.007678  0.385041 -0.030315  Fe+\n",
       "4 -1.077263  0.456032 -0.915042  1.352799 -0.145389 -0.608950  0.521230  Fe+"
      ]
     },
     "execution_count": 37,
     "metadata": {},
     "output_type": "execute_result"
    }
   ],
   "source": [
    "# Analisis PCA \n",
    "pca = PCA()\n",
    "pca_resultados = pca.fit_transform(df_scaled)\n",
    "\n",
    "df_pca = pd.DataFrame(data=pca_resultados, columns=['PC{}'.format(i+1) for i in range(df_scaled.shape[1])])\n",
    "\n",
    "# Añadir la columna 'trat' al nuevo DataFrame\n",
    "df_pca['trat'] = df['trat']\n",
    "df_pca.head()\n"
   ]
  },
  {
   "cell_type": "code",
   "execution_count": 34,
   "metadata": {},
   "outputs": [
    {
     "name": "stdout",
     "output_type": "stream",
     "text": [
      "[[ 0.55097372  0.60199575  0.06457498 -0.14027876  0.51914112  0.12616464\n",
      "  -0.1573404 ]\n",
      " [ 0.27074506  0.02795502  0.54390096  0.29076963 -0.2296687   0.39657092\n",
      "   0.57924451]\n",
      " [-0.22148576  0.12778309 -0.60500842  0.22229071  0.0803147   0.70898044\n",
      "   0.1003169 ]\n",
      " [-0.07436986  0.25335842  0.07603905  0.86708206 -0.04187824 -0.22175828\n",
      "  -0.34890525]\n",
      " [-0.13135038 -0.0985786  -0.16166994  0.21137081  0.61134678 -0.38408628\n",
      "   0.61720935]\n",
      " [ 0.52168014  0.14868422 -0.54138225  0.04750967 -0.48872111 -0.32217457\n",
      "   0.26028091]\n",
      " [-0.52833245  0.72420708  0.09461919 -0.21816425 -0.23863642 -0.15383518\n",
      "   0.24336784]]\n"
     ]
    },
    {
     "data": {
      "text/plain": [
       "(7, 7)"
      ]
     },
     "execution_count": 34,
     "metadata": {},
     "output_type": "execute_result"
    }
   ],
   "source": [
    "# Obtener loadings para cada componente principal\n",
    "loadings_matrix = pca.components_ \n",
    "print(loadings_matrix)\n"
   ]
  },
  {
   "cell_type": "code",
   "execution_count": 38,
   "metadata": {},
   "outputs": [
    {
     "name": "stdout",
     "output_type": "stream",
     "text": [
      "Varianza acumulativa: [0.31947599 0.5584051  0.70966485 0.84770984 0.93187936 0.97364928\n",
      " 1.        ]\n"
     ]
    },
    {
     "data": {
      "image/png": "[encoded data removed]",
      "text/plain": [
       "<Figure size 640x480 with 1 Axes>"
      ]
     },
     "metadata": {},
     "output_type": "display_data"
    }
   ],
   "source": [
    "# Visualizacion de la suma acumulativa de la varianza explicada\n",
    "varianza_explicada = pca.explained_variance_ratio_\n",
    "\n",
    "varianza_acumulativa = varianza_explicada.cumsum()\n",
    "print(\"Varianza acumulativa:\", varianza_acumulativa)\n",
    "\n",
    "plt.plot(range(1, len(varianza_acumulativa) + 1), varianza_acumulativa, marker='o')\n",
    "plt.xlabel('Número de Componentes Principales')\n",
    "plt.ylabel('Varianza Acumulativa Explicada')\n",
    "plt.title('Varianza Acumulativa Explicada por Componentes Principales')\n",
    "plt.show()"
   ]
  },
  {
   "cell_type": "markdown",
   "metadata": {},
   "source": []
  }
 ],
 "metadata": {
  "kernelspec": {
   "display_name": "Python 3",
   "language": "python",
   "name": "python3"
  },
  "language_info": {
   "codemirror_mode": {
    "name": "ipython",
    "version": 3
   },
   "file_extension": ".py",
   "mimetype": "text/x-python",
   "name": "python",
   "nbconvert_exporter": "python",
   "pygments_lexer": "ipython3",
   "version": "3.12.0"
  }
 },
 "nbformat": 4,
 "nbformat_minor": 2
}

